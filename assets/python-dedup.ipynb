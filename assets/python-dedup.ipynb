{
  "nbformat": 4,
  "nbformat_minor": 0,
  "metadata": {
    "colab": {
      "provenance": [],
      "authorship_tag": "ABX9TyNcT2pOOTL8xFDzKjd8BFon",
      "include_colab_link": true
    },
    "kernelspec": {
      "name": "python3",
      "display_name": "Python 3"
    },
    "language_info": {
      "name": "python"
    }
  },
  "cells": [
    {
      "cell_type": "markdown",
      "metadata": {
        "id": "view-in-github",
        "colab_type": "text"
      },
      "source": [
        "<a href=\"https://colab.research.google.com/github/philsupertramp/blog/blob/master/assets/python-dedup.ipynb\" target=\"_parent\"><img src=\"https://colab.research.google.com/assets/colab-badge.svg\" alt=\"Open In Colab\"/></a>"
      ]
    },
    {
      "cell_type": "code",
      "source": [
        "\n",
        "import random\n",
        "\n",
        "chars = [chr(i) for i in range(33, 127)] + [' '] * 15\n",
        "vals = list(range(1000000))\n",
        "\n",
        "def gen():\n",
        "  txt = ''.join(random.choices(chars, k=125))\n",
        "  return {'text': txt, 'foo': random.choices(list(vals), k=100)}\n",
        "\n",
        "gen()"
      ],
      "metadata": {
        "colab": {
          "base_uri": "https://localhost:8080/"
        },
        "id": "QJjNiqcXv_gI",
        "outputId": "c38076bc-5a7c-4076-fffa-7a8303bf1055"
      },
      "execution_count": 6,
      "outputs": [
        {
          "output_type": "execute_result",
          "data": {
            "text/plain": [
              "{'text': 'pX =Z]djIjX <| e>v Hdv,T Yq&G- \\\\:$7`@Oh!):8} 6k0y@5#R?Pk}DCX%&_|c)Dn4UZSP(^A\"l&@mz;GF(%+s_=2.$J:#  YcUg%   c 5j|Fz/vz^N6 z ,4',\n",
              " 'foo': [643488,\n",
              "  750078,\n",
              "  506705,\n",
              "  858690,\n",
              "  184585,\n",
              "  668814,\n",
              "  451073,\n",
              "  167060,\n",
              "  212598,\n",
              "  743090,\n",
              "  376622,\n",
              "  631108,\n",
              "  758702,\n",
              "  735782,\n",
              "  349319,\n",
              "  225326,\n",
              "  871440,\n",
              "  449764,\n",
              "  71800,\n",
              "  314311,\n",
              "  719673,\n",
              "  187865,\n",
              "  633415,\n",
              "  722374,\n",
              "  297205,\n",
              "  390303,\n",
              "  643776,\n",
              "  678022,\n",
              "  483912,\n",
              "  318675,\n",
              "  965956,\n",
              "  211279,\n",
              "  342344,\n",
              "  287028,\n",
              "  901394,\n",
              "  223118,\n",
              "  53765,\n",
              "  25702,\n",
              "  809115,\n",
              "  182293,\n",
              "  750123,\n",
              "  194872,\n",
              "  751958,\n",
              "  742171,\n",
              "  931136,\n",
              "  249357,\n",
              "  477764,\n",
              "  687632,\n",
              "  109913,\n",
              "  670086,\n",
              "  739395,\n",
              "  325510,\n",
              "  513985,\n",
              "  92461,\n",
              "  335383,\n",
              "  315539,\n",
              "  187693,\n",
              "  984165,\n",
              "  50347,\n",
              "  54146,\n",
              "  619413,\n",
              "  372442,\n",
              "  96563,\n",
              "  581463,\n",
              "  762076,\n",
              "  723672,\n",
              "  910835,\n",
              "  771860,\n",
              "  364610,\n",
              "  871796,\n",
              "  86464,\n",
              "  662626,\n",
              "  438698,\n",
              "  982298,\n",
              "  68074,\n",
              "  175629,\n",
              "  746079,\n",
              "  991209,\n",
              "  735906,\n",
              "  36265,\n",
              "  189937,\n",
              "  17528,\n",
              "  717148,\n",
              "  395485,\n",
              "  564011,\n",
              "  751440,\n",
              "  600842,\n",
              "  55719,\n",
              "  409812,\n",
              "  460293,\n",
              "  395352,\n",
              "  881371,\n",
              "  414750,\n",
              "  724011,\n",
              "  839632,\n",
              "  762714,\n",
              "  133880,\n",
              "  39156,\n",
              "  296439,\n",
              "  461562]}"
            ]
          },
          "metadata": {},
          "execution_count": 6
        }
      ]
    },
    {
      "cell_type": "code",
      "execution_count": 12,
      "metadata": {
        "id": "pVncochTtQ-M"
      },
      "outputs": [],
      "source": [
        "some_dataset = [\n",
        "  gen() for _ in range(1000)\n",
        "]"
      ]
    },
    {
      "cell_type": "code",
      "source": [
        "%%timeit\n",
        "elems = []\n",
        "F = []\n",
        "for e in some_dataset:\n",
        "  if e['text'] not in elems:\n",
        "    elems.append(e['text'])\n",
        "    F.append(e)"
      ],
      "metadata": {
        "colab": {
          "base_uri": "https://localhost:8080/"
        },
        "id": "8LBPLnIbyqFt",
        "outputId": "39f58b1f-f65a-4976-a45f-ccf0916a5064"
      },
      "execution_count": 13,
      "outputs": [
        {
          "output_type": "stream",
          "name": "stdout",
          "text": [
            "9.89 ms ± 401 µs per loop (mean ± std. dev. of 7 runs, 100 loops each)\n"
          ]
        }
      ]
    },
    {
      "cell_type": "code",
      "source": [
        "%%timeit\n",
        "elems = []\n",
        "F = []\n",
        "for e in some_dataset:\n",
        "  f = hash(e['text'])\n",
        "  if f not in elems:\n",
        "    elems.append(f)\n",
        "    F.append(e)"
      ],
      "metadata": {
        "colab": {
          "base_uri": "https://localhost:8080/"
        },
        "id": "M5eGfjs01m1Y",
        "outputId": "4c87aa13-61e7-40d4-8419-290aaa76b17a"
      },
      "execution_count": 14,
      "outputs": [
        {
          "output_type": "stream",
          "name": "stdout",
          "text": [
            "7.4 ms ± 1.82 ms per loop (mean ± std. dev. of 7 runs, 100 loops each)\n"
          ]
        }
      ]
    },
    {
      "cell_type": "code",
      "source": [
        "%%timeit\n",
        "\n",
        "F = list({e['text']: e for e in some_dataset}.values())"
      ],
      "metadata": {
        "colab": {
          "base_uri": "https://localhost:8080/"
        },
        "id": "KRDPbPq02CVR",
        "outputId": "535899d8-cb02-4e7c-cab3-510f8d73b04c"
      },
      "execution_count": 19,
      "outputs": [
        {
          "output_type": "stream",
          "name": "stdout",
          "text": [
            "98.1 µs ± 20.8 µs per loop (mean ± std. dev. of 7 runs, 10000 loops each)\n"
          ]
        }
      ]
    },
    {
      "cell_type": "code",
      "source": [
        "F = list({e['text']: e for e in some_dataset}.values())\n",
        "len(F)"
      ],
      "metadata": {
        "colab": {
          "base_uri": "https://localhost:8080/"
        },
        "id": "pAWfQnGW3P-H",
        "outputId": "5ee7095f-4a54-4860-ce5f-ca86e03f5581"
      },
      "execution_count": 22,
      "outputs": [
        {
          "output_type": "execute_result",
          "data": {
            "text/plain": [
              "1000"
            ]
          },
          "metadata": {},
          "execution_count": 22
        }
      ]
    }
  ]
}